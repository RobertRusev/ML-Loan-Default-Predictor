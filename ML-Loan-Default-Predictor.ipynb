{
 "cells": [
  {
   "cell_type": "markdown",
   "id": "c7ac2f47",
   "metadata": {},
   "source": [
    "# Introduction"
   ]
  },
  {
   "cell_type": "markdown",
   "id": "4c722a82",
   "metadata": {},
   "source": [
    "Small businesses play a significant role in creating jobs and promoting economic growth in the United States. To support small businesses, the Small Business Administration (SBA) guarantees bank loans to reduce the risk for banks in lending to small businesses. However, the rate of loan defaults is very high, and many economists question the effectiveness of the SBA's support. In this data science project, we will analyze a subset of the SBA loan database, which includes information on loans granted to the Real Estate and Rental and Leasing industry in California from 1987 to 2014. The data set contains 2,102 observations and 35 variables, including the loan default status, which we will use to predict whether a loan will default. By analyzing this data, we aim to provide insights into the loan approval process for small businesses in the Real Estate and Rental and Leasing industry in California.  \n",
    "Here's a [Kaggle link for the dataset](https://www.kaggle.com/datasets/larsen0966/sba-loans-case-data-set)"
   ]
  },
  {
   "cell_type": "markdown",
   "id": "5573e264",
   "metadata": {},
   "source": [
    "Problem Statement: The objective of this data science project is to develop a predictive model that can accurately identify potential loan defaults based on historical customer data. By leveraging machine learning algorithms and analyzing various features such as income, credit score, and employment history, the goal is to provide the lending institution with a tool to assess loan applicants' creditworthiness and mitigate the risk of default."
   ]
  },
  {
   "cell_type": "code",
   "execution_count": 1,
   "id": "6c467261",
   "metadata": {},
   "outputs": [],
   "source": [
    "%matplotlib inline"
   ]
  },
  {
   "cell_type": "markdown",
   "id": "920fb341",
   "metadata": {},
   "source": [
    "# 1.Imports and reading the data"
   ]
  },
  {
   "cell_type": "code",
   "execution_count": 56,
   "id": "d82435cf",
   "metadata": {},
   "outputs": [],
   "source": [
    "import numpy as np\n",
    "import pandas as pd\n",
    "import matplotlib.pyplot as plt\n",
    "import re\n",
    "from nose.tools import *\n",
    "import seaborn as sns\n",
    "\n",
    "from sklearn.linear_model import LogisticRegression\n",
    "from sklearn.model_selection import cross_validate\n",
    "from sklearn.preprocessing import MinMaxScaler\n",
    "from sklearn.model_selection import GridSearchCV\n",
    "from sklearn.preprocessing import StandardScaler\n",
    "from sklearn.model_selection import RepeatedStratifiedKFold\n",
    "from sklearn.model_selection import train_test_split, cross_val_score\n",
    "from sklearn.metrics import accuracy_score, classification_report, precision_score, recall_score,f1_score, roc_auc_score,confusion_matrix, precision_recall_curve, roc_curve, auc, log_loss, average_precision_score\n",
    "from sklearn.feature_selection import VarianceThreshold\n",
    "from sklearn.feature_selection import SelectKBest, chi2\n",
    "from imblearn.over_sampling import SMOTE\n",
    "from sklearn.ensemble import RandomForestClassifier\n",
    "import xgboost as xgb"
   ]
  },
  {
   "cell_type": "markdown",
   "id": "2f7fea0e",
   "metadata": {},
   "source": [
    "Reading the data"
   ]
  },
  {
   "cell_type": "code",
   "execution_count": 3,
   "id": "093ffbf2",
   "metadata": {},
   "outputs": [],
   "source": [
    "loans_data = pd.read_csv('data/SBAcase.11.13.17.csv')"
   ]
  },
  {
   "cell_type": "markdown",
   "id": "edfd00d2",
   "metadata": {},
   "source": [
    "# 2.Data quality,preparation and cleaning"
   ]
  },
  {
   "cell_type": "markdown",
   "id": "fe664e6b",
   "metadata": {},
   "source": [
    "To start, let's take a look at the data types of the columns and if they align with what we expect them to be."
   ]
  },
  {
   "cell_type": "code",
   "execution_count": 4,
   "id": "7fea26cb",
   "metadata": {
    "scrolled": false
   },
   "outputs": [
    {
     "data": {
      "text/plain": [
       "Selected               int64\n",
       "LoanNr_ChkDgt          int64\n",
       "Name                  object\n",
       "City                  object\n",
       "State                 object\n",
       "Zip                    int64\n",
       "Bank                  object\n",
       "BankState             object\n",
       "NAICS                  int64\n",
       "ApprovalDate           int64\n",
       "ApprovalFY             int64\n",
       "Term                   int64\n",
       "NoEmp                  int64\n",
       "NewExist             float64\n",
       "CreateJob              int64\n",
       "RetainedJob            int64\n",
       "FranchiseCode          int64\n",
       "UrbanRural             int64\n",
       "RevLineCr             object\n",
       "LowDoc                object\n",
       "ChgOffDate           float64\n",
       "DisbursementDate     float64\n",
       "DisbursementGross      int64\n",
       "BalanceGross           int64\n",
       "MIS_Status            object\n",
       "ChgOffPrinGr           int64\n",
       "GrAppv                 int64\n",
       "SBA_Appv               int64\n",
       "New                    int64\n",
       "RealEstate             int64\n",
       "Portion              float64\n",
       "Recession              int64\n",
       "daysterm               int64\n",
       "xx                   float64\n",
       "Default                int64\n",
       "dtype: object"
      ]
     },
     "execution_count": 4,
     "metadata": {},
     "output_type": "execute_result"
    }
   ],
   "source": [
    "loans_data.dtypes"
   ]
  },
  {
   "cell_type": "markdown",
   "id": "d3bc4c90",
   "metadata": {},
   "source": [
    "The dates are a float which isn't ideal but we will deal with them further down the line. "
   ]
  },
  {
   "cell_type": "markdown",
   "id": "c28eb858",
   "metadata": {},
   "source": [
    "We observed from the documentation that 'RevLineCr' and 'LowDoc' variables have values of 'Y' and 'N'.  \n",
    "We want to convert these variables into numeric values of ones and zeros."
   ]
  },
  {
   "cell_type": "code",
   "execution_count": 5,
   "id": "e2de119a",
   "metadata": {},
   "outputs": [],
   "source": [
    "loans_data['RevLineCr'] = loans_data['RevLineCr'].map({'Y': 1, 'N': 0})\n",
    "loans_data['LowDoc'] = loans_data['LowDoc'].map({'Y': 1, 'N': 0})"
   ]
  },
  {
   "cell_type": "markdown",
   "id": "456c2a42",
   "metadata": {},
   "source": [
    "Okay, now that that's done we can start focusing on the null values.  \n",
    "Firstly, let's calculate the percentage of null values for all the different variables we have."
   ]
  },
  {
   "cell_type": "code",
   "execution_count": 6,
   "id": "ffaba627",
   "metadata": {},
   "outputs": [
    {
     "name": "stdout",
     "output_type": "stream",
     "text": [
      "Selected              0.000000\n",
      "LoanNr_ChkDgt         0.000000\n",
      "Name                  0.000000\n",
      "City                  0.000000\n",
      "State                 0.000000\n",
      "Zip                   0.000000\n",
      "Bank                  0.142721\n",
      "BankState             0.142721\n",
      "NAICS                 0.000000\n",
      "ApprovalDate          0.000000\n",
      "ApprovalFY            0.000000\n",
      "Term                  0.000000\n",
      "NoEmp                 0.000000\n",
      "NewExist              0.047574\n",
      "CreateJob             0.000000\n",
      "RetainedJob           0.000000\n",
      "FranchiseCode         0.000000\n",
      "UrbanRural            0.000000\n",
      "RevLineCr            37.345385\n",
      "LowDoc                0.380590\n",
      "ChgOffDate           66.841104\n",
      "DisbursementDate      0.142721\n",
      "DisbursementGross     0.000000\n",
      "BalanceGross          0.000000\n",
      "MIS_Status            0.000000\n",
      "ChgOffPrinGr          0.000000\n",
      "GrAppv                0.000000\n",
      "SBA_Appv              0.000000\n",
      "New                   0.000000\n",
      "RealEstate            0.000000\n",
      "Portion               0.000000\n",
      "Recession             0.000000\n",
      "daysterm              0.000000\n",
      "xx                    0.142721\n",
      "Default               0.000000\n",
      "dtype: float64\n"
     ]
    }
   ],
   "source": [
    "na_percentages = (loans_data.isnull().sum() / len(loans_data)) * 100\n",
    "print(na_percentages)"
   ]
  },
  {
   "cell_type": "markdown",
   "id": "94ec0d68",
   "metadata": {},
   "source": [
    "Now the number of null values."
   ]
  },
  {
   "cell_type": "code",
   "execution_count": 7,
   "id": "e41331a6",
   "metadata": {},
   "outputs": [
    {
     "name": "stdout",
     "output_type": "stream",
     "text": [
      "Selected                0\n",
      "LoanNr_ChkDgt           0\n",
      "Name                    0\n",
      "City                    0\n",
      "State                   0\n",
      "Zip                     0\n",
      "Bank                    3\n",
      "BankState               3\n",
      "NAICS                   0\n",
      "ApprovalDate            0\n",
      "ApprovalFY              0\n",
      "Term                    0\n",
      "NoEmp                   0\n",
      "NewExist                1\n",
      "CreateJob               0\n",
      "RetainedJob             0\n",
      "FranchiseCode           0\n",
      "UrbanRural              0\n",
      "RevLineCr             785\n",
      "LowDoc                  8\n",
      "ChgOffDate           1405\n",
      "DisbursementDate        3\n",
      "DisbursementGross       0\n",
      "BalanceGross            0\n",
      "MIS_Status              0\n",
      "ChgOffPrinGr            0\n",
      "GrAppv                  0\n",
      "SBA_Appv                0\n",
      "New                     0\n",
      "RealEstate              0\n",
      "Portion                 0\n",
      "Recession               0\n",
      "daysterm                0\n",
      "xx                      3\n",
      "Default                 0\n",
      "dtype: int64\n"
     ]
    }
   ],
   "source": [
    "na_counts = loans_data.isnull().sum()\n",
    "print(na_counts)"
   ]
  },
  {
   "cell_type": "markdown",
   "id": "dc5bc74e",
   "metadata": {},
   "source": [
    "We would like to create a dataframe with the percentage of null values as well as their counts."
   ]
  },
  {
   "cell_type": "markdown",
   "id": "a57f1d43",
   "metadata": {},
   "source": [
    "We start by ensuring na_counts and na_percentages have consistent column names with loans_data."
   ]
  },
  {
   "cell_type": "code",
   "execution_count": 8,
   "id": "0198791f",
   "metadata": {},
   "outputs": [],
   "source": [
    "na_counts.index = loans_data.columns\n",
    "na_percentages.index = loans_data.columns"
   ]
  },
  {
   "cell_type": "markdown",
   "id": "0c8fa551",
   "metadata": {},
   "source": [
    "We then create a list of column names present in loans_data and filter na_counts and na_percentages to include only columns present in loans_data."
   ]
  },
  {
   "cell_type": "code",
   "execution_count": 9,
   "id": "8d4f1aec",
   "metadata": {},
   "outputs": [],
   "source": [
    "column_names = loans_data.columns.tolist()\n",
    "na_counts = na_counts[column_names]\n",
    "na_percentages = na_percentages[column_names]"
   ]
  },
  {
   "cell_type": "code",
   "execution_count": 10,
   "id": "26f636fd",
   "metadata": {},
   "outputs": [],
   "source": [
    "na_table = pd.DataFrame({\n",
    "    'Variable': na_counts.index,\n",
    "    'NA Count': na_counts,\n",
    "    'NA Percentage': na_percentages\n",
    "})"
   ]
  },
  {
   "cell_type": "code",
   "execution_count": 11,
   "id": "c6fb880a",
   "metadata": {},
   "outputs": [
    {
     "data": {
      "text/html": [
       "<div>\n",
       "<style scoped>\n",
       "    .dataframe tbody tr th:only-of-type {\n",
       "        vertical-align: middle;\n",
       "    }\n",
       "\n",
       "    .dataframe tbody tr th {\n",
       "        vertical-align: top;\n",
       "    }\n",
       "\n",
       "    .dataframe thead th {\n",
       "        text-align: right;\n",
       "    }\n",
       "</style>\n",
       "<table border=\"1\" class=\"dataframe\">\n",
       "  <thead>\n",
       "    <tr style=\"text-align: right;\">\n",
       "      <th></th>\n",
       "      <th>Variable</th>\n",
       "      <th>NA Count</th>\n",
       "      <th>NA Percentage</th>\n",
       "    </tr>\n",
       "  </thead>\n",
       "  <tbody>\n",
       "    <tr>\n",
       "      <th>Selected</th>\n",
       "      <td>Selected</td>\n",
       "      <td>0</td>\n",
       "      <td>0.000000</td>\n",
       "    </tr>\n",
       "    <tr>\n",
       "      <th>LoanNr_ChkDgt</th>\n",
       "      <td>LoanNr_ChkDgt</td>\n",
       "      <td>0</td>\n",
       "      <td>0.000000</td>\n",
       "    </tr>\n",
       "    <tr>\n",
       "      <th>Name</th>\n",
       "      <td>Name</td>\n",
       "      <td>0</td>\n",
       "      <td>0.000000</td>\n",
       "    </tr>\n",
       "    <tr>\n",
       "      <th>City</th>\n",
       "      <td>City</td>\n",
       "      <td>0</td>\n",
       "      <td>0.000000</td>\n",
       "    </tr>\n",
       "    <tr>\n",
       "      <th>State</th>\n",
       "      <td>State</td>\n",
       "      <td>0</td>\n",
       "      <td>0.000000</td>\n",
       "    </tr>\n",
       "    <tr>\n",
       "      <th>Zip</th>\n",
       "      <td>Zip</td>\n",
       "      <td>0</td>\n",
       "      <td>0.000000</td>\n",
       "    </tr>\n",
       "    <tr>\n",
       "      <th>Bank</th>\n",
       "      <td>Bank</td>\n",
       "      <td>3</td>\n",
       "      <td>0.142721</td>\n",
       "    </tr>\n",
       "    <tr>\n",
       "      <th>BankState</th>\n",
       "      <td>BankState</td>\n",
       "      <td>3</td>\n",
       "      <td>0.142721</td>\n",
       "    </tr>\n",
       "    <tr>\n",
       "      <th>NAICS</th>\n",
       "      <td>NAICS</td>\n",
       "      <td>0</td>\n",
       "      <td>0.000000</td>\n",
       "    </tr>\n",
       "    <tr>\n",
       "      <th>ApprovalDate</th>\n",
       "      <td>ApprovalDate</td>\n",
       "      <td>0</td>\n",
       "      <td>0.000000</td>\n",
       "    </tr>\n",
       "    <tr>\n",
       "      <th>ApprovalFY</th>\n",
       "      <td>ApprovalFY</td>\n",
       "      <td>0</td>\n",
       "      <td>0.000000</td>\n",
       "    </tr>\n",
       "    <tr>\n",
       "      <th>Term</th>\n",
       "      <td>Term</td>\n",
       "      <td>0</td>\n",
       "      <td>0.000000</td>\n",
       "    </tr>\n",
       "    <tr>\n",
       "      <th>NoEmp</th>\n",
       "      <td>NoEmp</td>\n",
       "      <td>0</td>\n",
       "      <td>0.000000</td>\n",
       "    </tr>\n",
       "    <tr>\n",
       "      <th>NewExist</th>\n",
       "      <td>NewExist</td>\n",
       "      <td>1</td>\n",
       "      <td>0.047574</td>\n",
       "    </tr>\n",
       "    <tr>\n",
       "      <th>CreateJob</th>\n",
       "      <td>CreateJob</td>\n",
       "      <td>0</td>\n",
       "      <td>0.000000</td>\n",
       "    </tr>\n",
       "    <tr>\n",
       "      <th>RetainedJob</th>\n",
       "      <td>RetainedJob</td>\n",
       "      <td>0</td>\n",
       "      <td>0.000000</td>\n",
       "    </tr>\n",
       "    <tr>\n",
       "      <th>FranchiseCode</th>\n",
       "      <td>FranchiseCode</td>\n",
       "      <td>0</td>\n",
       "      <td>0.000000</td>\n",
       "    </tr>\n",
       "    <tr>\n",
       "      <th>UrbanRural</th>\n",
       "      <td>UrbanRural</td>\n",
       "      <td>0</td>\n",
       "      <td>0.000000</td>\n",
       "    </tr>\n",
       "    <tr>\n",
       "      <th>RevLineCr</th>\n",
       "      <td>RevLineCr</td>\n",
       "      <td>785</td>\n",
       "      <td>37.345385</td>\n",
       "    </tr>\n",
       "    <tr>\n",
       "      <th>LowDoc</th>\n",
       "      <td>LowDoc</td>\n",
       "      <td>8</td>\n",
       "      <td>0.380590</td>\n",
       "    </tr>\n",
       "    <tr>\n",
       "      <th>ChgOffDate</th>\n",
       "      <td>ChgOffDate</td>\n",
       "      <td>1405</td>\n",
       "      <td>66.841104</td>\n",
       "    </tr>\n",
       "    <tr>\n",
       "      <th>DisbursementDate</th>\n",
       "      <td>DisbursementDate</td>\n",
       "      <td>3</td>\n",
       "      <td>0.142721</td>\n",
       "    </tr>\n",
       "    <tr>\n",
       "      <th>DisbursementGross</th>\n",
       "      <td>DisbursementGross</td>\n",
       "      <td>0</td>\n",
       "      <td>0.000000</td>\n",
       "    </tr>\n",
       "    <tr>\n",
       "      <th>BalanceGross</th>\n",
       "      <td>BalanceGross</td>\n",
       "      <td>0</td>\n",
       "      <td>0.000000</td>\n",
       "    </tr>\n",
       "    <tr>\n",
       "      <th>MIS_Status</th>\n",
       "      <td>MIS_Status</td>\n",
       "      <td>0</td>\n",
       "      <td>0.000000</td>\n",
       "    </tr>\n",
       "    <tr>\n",
       "      <th>ChgOffPrinGr</th>\n",
       "      <td>ChgOffPrinGr</td>\n",
       "      <td>0</td>\n",
       "      <td>0.000000</td>\n",
       "    </tr>\n",
       "    <tr>\n",
       "      <th>GrAppv</th>\n",
       "      <td>GrAppv</td>\n",
       "      <td>0</td>\n",
       "      <td>0.000000</td>\n",
       "    </tr>\n",
       "    <tr>\n",
       "      <th>SBA_Appv</th>\n",
       "      <td>SBA_Appv</td>\n",
       "      <td>0</td>\n",
       "      <td>0.000000</td>\n",
       "    </tr>\n",
       "    <tr>\n",
       "      <th>New</th>\n",
       "      <td>New</td>\n",
       "      <td>0</td>\n",
       "      <td>0.000000</td>\n",
       "    </tr>\n",
       "    <tr>\n",
       "      <th>RealEstate</th>\n",
       "      <td>RealEstate</td>\n",
       "      <td>0</td>\n",
       "      <td>0.000000</td>\n",
       "    </tr>\n",
       "    <tr>\n",
       "      <th>Portion</th>\n",
       "      <td>Portion</td>\n",
       "      <td>0</td>\n",
       "      <td>0.000000</td>\n",
       "    </tr>\n",
       "    <tr>\n",
       "      <th>Recession</th>\n",
       "      <td>Recession</td>\n",
       "      <td>0</td>\n",
       "      <td>0.000000</td>\n",
       "    </tr>\n",
       "    <tr>\n",
       "      <th>daysterm</th>\n",
       "      <td>daysterm</td>\n",
       "      <td>0</td>\n",
       "      <td>0.000000</td>\n",
       "    </tr>\n",
       "    <tr>\n",
       "      <th>xx</th>\n",
       "      <td>xx</td>\n",
       "      <td>3</td>\n",
       "      <td>0.142721</td>\n",
       "    </tr>\n",
       "    <tr>\n",
       "      <th>Default</th>\n",
       "      <td>Default</td>\n",
       "      <td>0</td>\n",
       "      <td>0.000000</td>\n",
       "    </tr>\n",
       "  </tbody>\n",
       "</table>\n",
       "</div>"
      ],
      "text/plain": [
       "                            Variable  NA Count  NA Percentage\n",
       "Selected                    Selected         0       0.000000\n",
       "LoanNr_ChkDgt          LoanNr_ChkDgt         0       0.000000\n",
       "Name                            Name         0       0.000000\n",
       "City                            City         0       0.000000\n",
       "State                          State         0       0.000000\n",
       "Zip                              Zip         0       0.000000\n",
       "Bank                            Bank         3       0.142721\n",
       "BankState                  BankState         3       0.142721\n",
       "NAICS                          NAICS         0       0.000000\n",
       "ApprovalDate            ApprovalDate         0       0.000000\n",
       "ApprovalFY                ApprovalFY         0       0.000000\n",
       "Term                            Term         0       0.000000\n",
       "NoEmp                          NoEmp         0       0.000000\n",
       "NewExist                    NewExist         1       0.047574\n",
       "CreateJob                  CreateJob         0       0.000000\n",
       "RetainedJob              RetainedJob         0       0.000000\n",
       "FranchiseCode          FranchiseCode         0       0.000000\n",
       "UrbanRural                UrbanRural         0       0.000000\n",
       "RevLineCr                  RevLineCr       785      37.345385\n",
       "LowDoc                        LowDoc         8       0.380590\n",
       "ChgOffDate                ChgOffDate      1405      66.841104\n",
       "DisbursementDate    DisbursementDate         3       0.142721\n",
       "DisbursementGross  DisbursementGross         0       0.000000\n",
       "BalanceGross            BalanceGross         0       0.000000\n",
       "MIS_Status                MIS_Status         0       0.000000\n",
       "ChgOffPrinGr            ChgOffPrinGr         0       0.000000\n",
       "GrAppv                        GrAppv         0       0.000000\n",
       "SBA_Appv                    SBA_Appv         0       0.000000\n",
       "New                              New         0       0.000000\n",
       "RealEstate                RealEstate         0       0.000000\n",
       "Portion                      Portion         0       0.000000\n",
       "Recession                  Recession         0       0.000000\n",
       "daysterm                    daysterm         0       0.000000\n",
       "xx                                xx         3       0.142721\n",
       "Default                      Default         0       0.000000"
      ]
     },
     "execution_count": 11,
     "metadata": {},
     "output_type": "execute_result"
    }
   ],
   "source": [
    "na_table"
   ]
  },
  {
   "cell_type": "markdown",
   "id": "6e645564",
   "metadata": {},
   "source": [
    "At the outset, we observe that ChgOffDate contains a significant number of null values. However, this is not surprising since ChgOffDate is populated only when a business' loan is charged off. For businesses that have fully repaid their loans, this field will be null."
   ]
  },
  {
   "cell_type": "markdown",
   "id": "2850b0c7",
   "metadata": {},
   "source": [
    "As we can see in the below code - almost all the populated values are companies that have defaulted on their loans."
   ]
  },
  {
   "cell_type": "code",
   "execution_count": 12,
   "id": "2be9f030",
   "metadata": {},
   "outputs": [],
   "source": [
    "default_percent = (loans_data[loans_data.ChgOffDate.notnull()]['Default'].sum() / \n",
    "                   loans_data[loans_data.ChgOffDate.notnull()].shape[0]) * 100"
   ]
  },
  {
   "cell_type": "code",
   "execution_count": 13,
   "id": "d093f5f4",
   "metadata": {},
   "outputs": [
    {
     "name": "stdout",
     "output_type": "stream",
     "text": [
      "98.42180774748924\n"
     ]
    }
   ],
   "source": [
    "print(default_percent)"
   ]
  },
  {
   "cell_type": "markdown",
   "id": "41c4c0d1",
   "metadata": {},
   "source": [
    "I find that the percentage of 98.42 is high enough to warrant a removal of ChgOffDate as a variable to the model as it will not yield any new information - the n/a values are the companies who haven't defaulted and the ones that are populated have a default rate of 98.42%."
   ]
  },
  {
   "cell_type": "markdown",
   "id": "1017546d",
   "metadata": {},
   "source": [
    "The 'Selected' column in the dataset is a pre-defined variable used for splitting the data into train and test datasets. However, since we plan to perform our own data splitting later on, we can safely remove this variable from the dataset."
   ]
  },
  {
   "cell_type": "code",
   "execution_count": 14,
   "id": "5d06b82d",
   "metadata": {},
   "outputs": [],
   "source": [
    "loans_data.drop(['Selected'],axis=1,inplace=True)"
   ]
  },
  {
   "cell_type": "markdown",
   "id": "3e5ffd65",
   "metadata": {},
   "source": [
    "Now let's drop the columns that we mentioned above - the ones that contain a date plus some unnecesary ones like NAICS - that won't be used in the following analysis.  \n",
    "Here's what each one corresponds to:  \n",
    "ApprovalFY - Fiscal year of commitment  \n",
    "DisbursementDate - Disbursement date  \n",
    "ApprovalDate - Approval date  \n",
    "ChgOffDate - We already mentioned this - the date that the loan was charged off.  \n",
    "Selected - We already mentioned that this is whether the data will be used for training or testing purposes.  \n",
    "LoanNr_ChkDgt - This is the primary key and we won't be needing that for this analysis.  \n",
    "NAICS - North American industry classification system code  \n",
    "FranchiseCode - Franchise code, (00000 or 00001) = No franchise  \n",
    "daysterm - extra variable that was created when the Recession variable was created  \n",
    "xx - like the above"
   ]
  },
  {
   "cell_type": "code",
   "execution_count": 15,
   "id": "afd801a9",
   "metadata": {},
   "outputs": [],
   "source": [
    "loans_data = loans_data.drop(['ApprovalFY','DisbursementDate','ApprovalDate','ChgOffDate','LoanNr_ChkDgt','NAICS','FranchiseCode','daysterm','xx'],axis = 1)"
   ]
  },
  {
   "cell_type": "markdown",
   "id": "cb4832d9",
   "metadata": {},
   "source": [
    "I have decided to drop the small number of missing values that occur outside of 'ChgOffDate'. This decision was made based on the table above which shows that the number of missing values is relatively small, and dropping them is unlikely to have a significant impact on the analysis. "
   ]
  },
  {
   "cell_type": "code",
   "execution_count": 16,
   "id": "645cc295",
   "metadata": {},
   "outputs": [],
   "source": [
    "loans_data.dropna(inplace=True)"
   ]
  },
  {
   "cell_type": "markdown",
   "id": "945cae77",
   "metadata": {},
   "source": [
    "Quick check if any n/a values are left out."
   ]
  },
  {
   "cell_type": "code",
   "execution_count": 17,
   "id": "439210ce",
   "metadata": {},
   "outputs": [
    {
     "data": {
      "text/plain": [
       "Name                 0\n",
       "City                 0\n",
       "State                0\n",
       "Zip                  0\n",
       "Bank                 0\n",
       "BankState            0\n",
       "Term                 0\n",
       "NoEmp                0\n",
       "NewExist             0\n",
       "CreateJob            0\n",
       "RetainedJob          0\n",
       "UrbanRural           0\n",
       "RevLineCr            0\n",
       "LowDoc               0\n",
       "DisbursementGross    0\n",
       "BalanceGross         0\n",
       "MIS_Status           0\n",
       "ChgOffPrinGr         0\n",
       "GrAppv               0\n",
       "SBA_Appv             0\n",
       "New                  0\n",
       "RealEstate           0\n",
       "Portion              0\n",
       "Recession            0\n",
       "Default              0\n",
       "dtype: int64"
      ]
     },
     "execution_count": 17,
     "metadata": {},
     "output_type": "execute_result"
    }
   ],
   "source": [
    "loans_data.isnull().sum()"
   ]
  },
  {
   "cell_type": "markdown",
   "id": "52935be4",
   "metadata": {},
   "source": [
    "During the analysis, an unexpected value of 0 was discovered in the 'NewExist' variable, which is typically assigned a value of 1 or 2 to indicate whether a business is existing or new. Since this value appears to be an anomaly and there is only one occurrence, it will be removed from the dataset."
   ]
  },
  {
   "cell_type": "code",
   "execution_count": 18,
   "id": "67972737",
   "metadata": {},
   "outputs": [],
   "source": [
    "loans_data.drop(loans_data[loans_data['NewExist']==0].index,inplace=True)"
   ]
  },
  {
   "cell_type": "markdown",
   "id": "5b9e6b39",
   "metadata": {},
   "source": [
    "The next step is to split the dataset into training and testing data. It will be used to evaluate our model further down the line."
   ]
  },
  {
   "cell_type": "code",
   "execution_count": 19,
   "id": "f8a04b16",
   "metadata": {},
   "outputs": [],
   "source": [
    "loans_data_train, loans_data_test = train_test_split(loans_data, test_size=0.2, random_state=42)"
   ]
  },
  {
   "cell_type": "code",
   "execution_count": 20,
   "id": "bd6ae2fd",
   "metadata": {},
   "outputs": [
    {
     "name": "stdout",
     "output_type": "stream",
     "text": [
      "Train data shape: (1044, 25)\n",
      "Test data shape: (261, 25)\n"
     ]
    }
   ],
   "source": [
    "print(\"Train data shape:\", loans_data_train.shape)\n",
    "print(\"Test data shape:\", loans_data_test.shape)"
   ]
  },
  {
   "cell_type": "markdown",
   "id": "311bccc8",
   "metadata": {},
   "source": [
    "I have decided to create a subset of the dataset that excludes the 'Default' variable,  \n",
    "which will be our target variable for further analysis and modeling in this data science project."
   ]
  },
  {
   "cell_type": "code",
   "execution_count": 21,
   "id": "aa7d8aec",
   "metadata": {},
   "outputs": [],
   "source": [
    "independent_vars = [col for col in loans_data.columns if col != 'Default']\n",
    "loans_data_subset = loans_data_test[independent_vars]"
   ]
  },
  {
   "cell_type": "markdown",
   "id": "6c3adc14",
   "metadata": {},
   "source": [
    "# 3. Explanatory Data Analysis"
   ]
  },
  {
   "cell_type": "markdown",
   "id": "6f961556",
   "metadata": {},
   "source": [
    "Okay now let's start some data exploration.  \n",
    "I have picked several variables which I believe influence the Default rate.  \n",
    "Term - the loan term in months (non-binary)  \n",
    "NoEmp - number of employees at the time of the loan (non-binary)    \n",
    "NewExist - new or existing business (binary)  \n",
    "UrbanRural - the geographical location of the business (binary)    \n",
    "RealEstate - whether or not the business was backed by real estate (binary)  \n",
    "Recession - whether the loan was given during the Great Recession or not (binary var)  "
   ]
  },
  {
   "cell_type": "markdown",
   "id": "10c85e09",
   "metadata": {},
   "source": [
    "## 3.1 Exploration of Term\n",
    "To begin with, let's take a look at a density plot of the loan term and see what that can tell us."
   ]
  },
  {
   "cell_type": "code",
   "execution_count": 22,
   "id": "4d0619cc",
   "metadata": {},
   "outputs": [
    {
     "data": {
      "image/png": "[encoded data removed]",
      "text/plain": [
       "<Figure size 1080x576 with 1 Axes>"
      ]
     },
     "metadata": {
      "needs_background": "light"
     },
     "output_type": "display_data"
    }
   ],
   "source": [
    "plt.figure(figsize=(15,8))\n",
    "ax = sns.kdeplot(loans_data_train[\"Term\"][loans_data_train.Default == 0], color=\"darkturquoise\", shade=True)\n",
    "sns.kdeplot(loans_data_train[\"Term\"][loans_data_train.Default == 1], color=\"lightcoral\", shade=True)\n",
    "plt.legend(['Stable', 'Defaulted'])\n",
    "plt.title('Density Plot of the loan term for Stable businesses and Defaulted businesses')\n",
    "ax.set(xlabel='Term')\n",
    "plt.xlim(-10,85)\n",
    "plt.show()"
   ]
  },
  {
   "cell_type": "markdown",
   "id": "6b836174",
   "metadata": {},
   "source": [
    "It is evident that most of the businesses that defaulted had shorter-term loans. The default rate rises gradually up to around 50 months, after which it starts to decrease steadily. Conversely, longer-term loans appear to be more stable, with a lower default rate observed in this category."
   ]
  },
  {
   "cell_type": "markdown",
   "id": "1a2a065d",
   "metadata": {},
   "source": [
    "## 3.2 Exploration of number of employees \n",
    "Now let's take a look at our next variable - number of employees."
   ]
  },
  {
   "cell_type": "code",
   "execution_count": 23,
   "id": "bcab4a6f",
   "metadata": {},
   "outputs": [
    {
     "data": {
      "image/png": "[encoded data removed]",
      "text/plain": [
       "<Figure size 1080x576 with 1 Axes>"
      ]
     },
     "metadata": {
      "needs_background": "light"
     },
     "output_type": "display_data"
    }
   ],
   "source": [
    "plt.figure(figsize=(15,8))\n",
    "ax = sns.kdeplot(loans_data_train[\"NoEmp\"][loans_data_train.Default == 0], color=\"darkturquoise\", shade=True)\n",
    "sns.kdeplot(loans_data_train[\"NoEmp\"][loans_data_train.Default == 1], color=\"lightcoral\", shade=True)\n",
    "plt.legend(['Stable', 'Defaulted'])\n",
    "plt.title('Density Plot of the number of employees for Stable businesses and Defaulted businesses')\n",
    "ax.set(xlabel='Number of employees')\n",
    "plt.xlim(-10,85)\n",
    "plt.show()"
   ]
  },
  {
   "cell_type": "markdown",
   "id": "606cc993",
   "metadata": {},
   "source": [
    "The distribution in this variable is clearly different for our two categories. It's likely that this variable will be a significant predictor in our final model. The businesses that have a smaller number of employees appear to have a higher chance of defaulting."
   ]
  },
  {
   "cell_type": "markdown",
   "id": "71f5c876",
   "metadata": {},
   "source": [
    "## 3.3 Exploration of whether the business was new or existing\n",
    "Let's explore whether the default rate is influenced by the status of the business, either new or existing. Here,on the x axis, we can use the coding of 1 for existing businesses and 2 for new ones."
   ]
  },
  {
   "cell_type": "code",
   "execution_count": 24,
   "id": "8448413a",
   "metadata": {},
   "outputs": [
    {
     "name": "stderr",
     "output_type": "stream",
     "text": [
      "/Library/Frameworks/Python.framework/Versions/3.6/lib/python3.6/site-packages/seaborn/_decorators.py:43: FutureWarning: Pass the following variables as keyword args: x, y. From version 0.12, the only valid positional argument will be `data`, and passing other arguments without an explicit keyword will result in an error or misinterpretation.\n",
      "  FutureWarning\n"
     ]
    },
    {
     "data": {
      "image/png": "[encoded data removed]",
      "text/plain": [
       "<Figure size 432x288 with 1 Axes>"
      ]
     },
     "metadata": {
      "needs_background": "light"
     },
     "output_type": "display_data"
    }
   ],
   "source": [
    "sns.barplot('NewExist', 'Default', data=loans_data_train, color=\"darkturquoise\")\n",
    "plt.show()"
   ]
  },
  {
   "cell_type": "markdown",
   "id": "ee0895e7",
   "metadata": {},
   "source": [
    "Upon analysis, it appears that new businesses have a slightly higher default rate, although not as high as one would anticipate. This observation came as a surprise to me.     "
   ]
  },
  {
   "cell_type": "markdown",
   "id": "3e868e22",
   "metadata": {},
   "source": [
    "## 3.4 Exploration of geographical location\n",
    "The next observation would be how the default rate varies based on the geographic location. The location variable has 3 categories: 0 for undefined, 1 for urban, and 2 for rural."
   ]
  },
  {
   "cell_type": "code",
   "execution_count": 25,
   "id": "cf96500e",
   "metadata": {},
   "outputs": [
    {
     "name": "stderr",
     "output_type": "stream",
     "text": [
      "/Library/Frameworks/Python.framework/Versions/3.6/lib/python3.6/site-packages/seaborn/_decorators.py:43: FutureWarning: Pass the following variables as keyword args: x, y. From version 0.12, the only valid positional argument will be `data`, and passing other arguments without an explicit keyword will result in an error or misinterpretation.\n",
      "  FutureWarning\n"
     ]
    },
    {
     "data": {
      "image/png": "[encoded data removed]",
      "text/plain": [
       "<Figure size 432x288 with 1 Axes>"
      ]
     },
     "metadata": {
      "needs_background": "light"
     },
     "output_type": "display_data"
    }
   ],
   "source": [
    "sns.barplot('UrbanRural', 'Default', data=loans_data_train, color=\"teal\")\n",
    "plt.show()"
   ]
  },
  {
   "cell_type": "markdown",
   "id": "43bede1e",
   "metadata": {},
   "source": [
    "It looks like rural businesses have a higher chance of default - that might be due to the relative stability of the rural areas in terms of population and demand... which could be a good or bad thing depending on the case."
   ]
  },
  {
   "cell_type": "markdown",
   "id": "b7408df4",
   "metadata": {},
   "source": [
    "## 3.5 Exploration of real estate backing\n",
    "Now let's take a look at real estate backing."
   ]
  },
  {
   "cell_type": "code",
   "execution_count": 26,
   "id": "99afb03b",
   "metadata": {},
   "outputs": [
    {
     "name": "stderr",
     "output_type": "stream",
     "text": [
      "/Library/Frameworks/Python.framework/Versions/3.6/lib/python3.6/site-packages/seaborn/_decorators.py:43: FutureWarning: Pass the following variables as keyword args: x, y. From version 0.12, the only valid positional argument will be `data`, and passing other arguments without an explicit keyword will result in an error or misinterpretation.\n",
      "  FutureWarning\n"
     ]
    },
    {
     "data": {
      "image/png": "[encoded data removed]",
      "text/plain": [
       "<Figure size 432x288 with 1 Axes>"
      ]
     },
     "metadata": {
      "needs_background": "light"
     },
     "output_type": "display_data"
    }
   ],
   "source": [
    "sns.barplot('RealEstate', 'Default', data=loans_data_train, color=\"mediumturquoise\")\n",
    "plt.show()"
   ]
  },
  {
   "cell_type": "markdown",
   "id": "54b262d8",
   "metadata": {},
   "source": [
    "Unsurprisingly, real estate backing does bring down the default rate a lot."
   ]
  },
  {
   "cell_type": "markdown",
   "id": "f3896767",
   "metadata": {},
   "source": [
    "## 3.6 Exploration of the period of the Great Recession\n",
    "Now for our final variable - let's look at whether The Great Recession impacted the default rate."
   ]
  },
  {
   "cell_type": "code",
   "execution_count": 27,
   "id": "e3469762",
   "metadata": {},
   "outputs": [
    {
     "name": "stderr",
     "output_type": "stream",
     "text": [
      "/Library/Frameworks/Python.framework/Versions/3.6/lib/python3.6/site-packages/seaborn/_decorators.py:43: FutureWarning: Pass the following variables as keyword args: x, y. From version 0.12, the only valid positional argument will be `data`, and passing other arguments without an explicit keyword will result in an error or misinterpretation.\n",
      "  FutureWarning\n"
     ]
    },
    {
     "data": {
      "image/png": "[encoded data removed]",
      "text/plain": [
       "<Figure size 432x288 with 1 Axes>"
      ]
     },
     "metadata": {
      "needs_background": "light"
     },
     "output_type": "display_data"
    }
   ],
   "source": [
    "sns.barplot('Recession', 'Default', data=loans_data_train, color=\"brown\")\n",
    "plt.show()"
   ]
  },
  {
   "cell_type": "markdown",
   "id": "e083d77a",
   "metadata": {},
   "source": [
    "Due to the nature of the recession this is not a surprise."
   ]
  },
  {
   "cell_type": "markdown",
   "id": "b4558afc",
   "metadata": {},
   "source": [
    "## 4.Modelling"
   ]
  },
  {
   "cell_type": "markdown",
   "id": "47f68c7f",
   "metadata": {},
   "source": [
    "## 4.1 Feature selection"
   ]
  },
  {
   "cell_type": "markdown",
   "id": "b72773c0",
   "metadata": {},
   "source": [
    "By selecting the right set of features, we can improve model performance, reduce overfitting, and enhance interpretability. In this project, we will explore various feature selection techniques to identify the subset of features that have the strongest relationship with the target variable. This will allow us to focus on the most influential features and potentially eliminate redundant or irrelevant ones, leading to more robust and interpretable models."
   ]
  },
  {
   "cell_type": "code",
   "execution_count": 28,
   "id": "9b220aaa",
   "metadata": {},
   "outputs": [],
   "source": [
    "X = loans_data_train[independent_vars]"
   ]
  },
  {
   "cell_type": "code",
   "execution_count": 29,
   "id": "dd770524",
   "metadata": {},
   "outputs": [],
   "source": [
    "y = loans_data_train['Default']"
   ]
  },
  {
   "cell_type": "code",
   "execution_count": 30,
   "id": "b07b0eff",
   "metadata": {},
   "outputs": [],
   "source": [
    "model = LogisticRegression()"
   ]
  },
  {
   "cell_type": "markdown",
   "id": "20ad0ff4",
   "metadata": {},
   "source": [
    "Initially, pairwise correlations will be used to determine which are the highly correlated variables.Threshold is set at 0.8"
   ]
  },
  {
   "cell_type": "code",
   "execution_count": 31,
   "id": "7bf1ca71",
   "metadata": {},
   "outputs": [
    {
     "name": "stdout",
     "output_type": "stream",
     "text": [
      "Recession          Recession            1.000000\n",
      "RevLineCr          RevLineCr            1.000000\n",
      "New                New                  1.000000\n",
      "                   NewExist             1.000000\n",
      "SBA_Appv           SBA_Appv             1.000000\n",
      "GrAppv             GrAppv               1.000000\n",
      "ChgOffPrinGr       ChgOffPrinGr         1.000000\n",
      "DisbursementGross  DisbursementGross    1.000000\n",
      "UrbanRural         UrbanRural           1.000000\n",
      "Portion            Portion              1.000000\n",
      "RetainedJob        RetainedJob          1.000000\n",
      "CreateJob          CreateJob            1.000000\n",
      "NewExist           New                  1.000000\n",
      "                   NewExist             1.000000\n",
      "NoEmp              NoEmp                1.000000\n",
      "Term               Term                 1.000000\n",
      "RealEstate         RealEstate           1.000000\n",
      "LowDoc             LowDoc               1.000000\n",
      "Zip                Zip                  1.000000\n",
      "SBA_Appv           GrAppv               0.989544\n",
      "GrAppv             SBA_Appv             0.989544\n",
      "DisbursementGross  GrAppv               0.980390\n",
      "GrAppv             DisbursementGross    0.980390\n",
      "DisbursementGross  SBA_Appv             0.964882\n",
      "SBA_Appv           DisbursementGross    0.964882\n",
      "Term               RealEstate           0.918872\n",
      "RealEstate         Term                 0.918872\n",
      "dtype: float64\n"
     ]
    }
   ],
   "source": [
    "threshold = 0.8\n",
    "\n",
    "pairwise_correlations = X.corr().abs().unstack().sort_values(ascending=False)\n",
    "\n",
    "highly_correlated_pairs = pairwise_correlations[pairwise_correlations > threshold]\n",
    "\n",
    "print(highly_correlated_pairs)"
   ]
  },
  {
   "cell_type": "markdown",
   "id": "d39f5c8a",
   "metadata": {},
   "source": [
    "Based on this we can remove SBA_Appv, GrAppv and RealEstate and New to address multicollinearity."
   ]
  },
  {
   "cell_type": "code",
   "execution_count": 32,
   "id": "3f1be592",
   "metadata": {},
   "outputs": [],
   "source": [
    "X = X.drop(['SBA_Appv','GrAppv','RealEstate','New'],axis=1)"
   ]
  },
  {
   "cell_type": "markdown",
   "id": "207479fa",
   "metadata": {},
   "source": [
    "We will drop the variables that contain string values, such as names (e.g., Name), location information (e.g., City, State), and other text-based columns. These variables do not provide numerical information that can be used for modeling and prediction."
   ]
  },
  {
   "cell_type": "code",
   "execution_count": 33,
   "id": "0e0d4860",
   "metadata": {},
   "outputs": [],
   "source": [
    "X = X.drop(['Name','City','State','Bank','BankState','MIS_Status'],axis=1)"
   ]
  },
  {
   "cell_type": "markdown",
   "id": "e9536ad6",
   "metadata": {},
   "source": [
    "We can also drop features that have a low variability. That is because features with minimal to no variation don't contribute to explaining the different instances within the dataset. The features won't be used for modelling as they might introduce noise. We are going to use VarianceTreshold to address this with a threshold of 0.1."
   ]
  },
  {
   "cell_type": "code",
   "execution_count": 34,
   "id": "b5af118e",
   "metadata": {},
   "outputs": [
    {
     "name": "stdout",
     "output_type": "stream",
     "text": [
      "Dropped features:\n",
      "Index(['LowDoc', 'BalanceGross', 'Portion', 'Recession'], dtype='object')\n"
     ]
    }
   ],
   "source": [
    "threshold = 0.1\n",
    "\n",
    "selector = VarianceThreshold(threshold=threshold)\n",
    "\n",
    "selector.fit(X)\n",
    "\n",
    "selected_indices = selector.get_support(indices=True)\n",
    "\n",
    "X_selected = X.iloc[:, selected_indices]\n",
    "\n",
    "dropped_indices = np.logical_not(selector.get_support())\n",
    "dropped_features = X.columns[dropped_indices]\n",
    "print(\"Dropped features:\")\n",
    "print(dropped_features)"
   ]
  },
  {
   "cell_type": "markdown",
   "id": "ca58a190",
   "metadata": {},
   "source": [
    "Let's print the variances in a dataframe."
   ]
  },
  {
   "cell_type": "code",
   "execution_count": 35,
   "id": "eb09676d",
   "metadata": {},
   "outputs": [
    {
     "name": "stdout",
     "output_type": "stream",
     "text": [
      "           Feature          Variance\n",
      " DisbursementGross  74424194601.1769\n",
      "      ChgOffPrinGr   4830460635.6867\n",
      "               Zip      3106447.1057\n",
      "              Term         5380.4301\n",
      "             NoEmp          623.0508\n",
      "       RetainedJob          171.4782\n",
      "         CreateJob           53.7238\n",
      "         RevLineCr            0.2464\n",
      "        UrbanRural            0.1816\n",
      "          NewExist            0.1495\n",
      "         Recession            0.0683\n",
      "           Portion            0.0301\n",
      "            LowDoc            0.0132\n",
      "      BalanceGross            0.0000\n"
     ]
    }
   ],
   "source": [
    "variances = selector.variances_\n",
    "\n",
    "variance_df = pd.DataFrame({'Feature': X.columns, 'Variance': variances})\n",
    "\n",
    "variance_df = variance_df.sort_values('Variance', ascending=False)\n",
    "\n",
    "variance_df['Variance'] = variance_df['Variance'].map('{:.4f}'.format)\n",
    "\n",
    "print(variance_df.to_string(index=False))"
   ]
  },
  {
   "cell_type": "markdown",
   "id": "1b6e1d66",
   "metadata": {},
   "source": [
    "Now let's drop the 4 variables that have the lowest variance."
   ]
  },
  {
   "cell_type": "code",
   "execution_count": 36,
   "id": "0337b7cb",
   "metadata": {},
   "outputs": [],
   "source": [
    "X = X.drop(['LowDoc','BalanceGross','Portion','Recession'],axis=1)"
   ]
  },
  {
   "cell_type": "markdown",
   "id": "51af86fe",
   "metadata": {},
   "source": [
    "Next we are going to use SelectKBest to refine our feature selection.\n",
    "It aims to identify the most informative features from a given dataset by evaluating their statistical significance. The technique assigns statistical scores to each feature and selects the top k features with the highest scores.\n",
    "Additionally, selecting the most informative features can enhance model performance, as the model can focus on the most influential factors in making predictions or classifications.\n",
    "It also provides a quantitative measure of feature importance, enabling us to prioritize features and gain insights into their contributions to the model's performance."
   ]
  },
  {
   "cell_type": "code",
   "execution_count": 37,
   "id": "578449bc",
   "metadata": {},
   "outputs": [
    {
     "name": "stdout",
     "output_type": "stream",
     "text": [
      "Dropped features:\n",
      "Index(['Zip', 'NewExist', 'RetainedJob', 'UrbanRural', 'RevLineCr'], dtype='object')\n"
     ]
    }
   ],
   "source": [
    "k = 5\n",
    "\n",
    "selector = SelectKBest(score_func=chi2, k=k)\n",
    "\n",
    "selector.fit(X, y)\n",
    "\n",
    "selected_indices = selector.get_support(indices=True)\n",
    "\n",
    "X_selected = X.iloc[:, selected_indices]\n",
    "dropped_indices = np.logical_not(selector.get_support())\n",
    "dropped_features = X.columns[dropped_indices]\n",
    "print(\"Dropped features:\")\n",
    "print(dropped_features)"
   ]
  },
  {
   "cell_type": "markdown",
   "id": "448bf372",
   "metadata": {},
   "source": [
    "Let's print a dataframe with the scores from set features and drop the fetures we don't need."
   ]
  },
  {
   "cell_type": "code",
   "execution_count": 38,
   "id": "552cc200",
   "metadata": {},
   "outputs": [
    {
     "name": "stdout",
     "output_type": "stream",
     "text": [
      "Selected Features:\n",
      "             Feature         Score\n",
      "0       ChgOffPrinGr 28370250.4391\n",
      "1  DisbursementGross 24106605.9165\n",
      "2               Term    12823.2843\n",
      "3              NoEmp      845.6464\n",
      "4          CreateJob      209.4766\n"
     ]
    }
   ],
   "source": [
    "scores = selector.scores_\n",
    "\n",
    "selected_features_df = pd.DataFrame({'Feature': X.columns[selected_indices], 'Score': scores[selected_indices]})\n",
    "\n",
    "selected_features_df = selected_features_df.sort_values('Score', ascending=False)\n",
    "\n",
    "selected_features_df = selected_features_df.reset_index(drop=True)\n",
    "\n",
    "pd.options.display.float_format = '{:.4f}'.format\n",
    "\n",
    "print(\"Selected Features:\")\n",
    "print(selected_features_df)"
   ]
  },
  {
   "cell_type": "code",
   "execution_count": 39,
   "id": "0c5f18f7",
   "metadata": {},
   "outputs": [],
   "source": [
    "X = X.drop(['Zip', 'NewExist', 'RetainedJob', 'UrbanRural', 'RevLineCr'],axis=1)"
   ]
  },
  {
   "cell_type": "markdown",
   "id": "5bb6cddb",
   "metadata": {},
   "source": [
    "We have our features, now it's time to evaluate the model."
   ]
  },
  {
   "cell_type": "markdown",
   "id": "2cd97275",
   "metadata": {},
   "source": [
    "## 4.2 Model evaluation"
   ]
  },
  {
   "cell_type": "markdown",
   "id": "c0a87944",
   "metadata": {},
   "source": [
    "### 4.2.1 Train/test split"
   ]
  },
  {
   "cell_type": "markdown",
   "id": "b45af7a1",
   "metadata": {},
   "source": [
    "We are going to use two model evaluation techniques.  \n",
    "The first one is Train/test split. The primary reason for using it is to check the model's generalisation performance.\n",
    "By seeing how the model performs on unseen data - the test split, we can establish how well it is going to perform on real world data. If the model performs well on the training set but worse on the testing set, then we can conclude that it is likely that the model has overfit the data."
   ]
  },
  {
   "cell_type": "markdown",
   "id": "f60004ec",
   "metadata": {},
   "source": [
    "In classification problems we need to check the balance of the values in our dependent variable 'Default'."
   ]
  },
  {
   "cell_type": "code",
   "execution_count": 40,
   "id": "4316773c",
   "metadata": {},
   "outputs": [
    {
     "name": "stdout",
     "output_type": "stream",
     "text": [
      "0    609\n",
      "1    435\n",
      "Name: Default, dtype: int64\n"
     ]
    }
   ],
   "source": [
    "dependent_variable = 'Default'\n",
    "\n",
    "value_counts = loans_data_train[dependent_variable].value_counts()\n",
    "\n",
    "print(value_counts)"
   ]
  },
  {
   "cell_type": "markdown",
   "id": "7a4d2af3",
   "metadata": {},
   "source": [
    "It appears our variable is slightly imbalanced with 0 having a higher count than 1.  \n",
    "We can address this we will use SMOTE(Synthetic Minority Oversampling Technique). \n",
    "This technique generates synthetic examples of the minority class by going through existing instances. It helps in increasing the diversity of the minority class while avoiding overfitting.\n",
    "Let's test_split first."
   ]
  },
  {
   "cell_type": "code",
   "execution_count": 41,
   "id": "81432d5d",
   "metadata": {},
   "outputs": [],
   "source": [
    "X_train, X_test, y_train, y_test = train_test_split(X, y, test_size=0.2, random_state=42)"
   ]
  },
  {
   "cell_type": "code",
   "execution_count": 42,
   "id": "7edee48e",
   "metadata": {},
   "outputs": [],
   "source": [
    "smote = SMOTE()"
   ]
  },
  {
   "cell_type": "code",
   "execution_count": 43,
   "id": "20fd534b",
   "metadata": {},
   "outputs": [],
   "source": [
    "X_train_smote, y_train_smote = smote.fit_resample(X_train, y_train)"
   ]
  },
  {
   "cell_type": "markdown",
   "id": "277f23b9",
   "metadata": {},
   "source": [
    "Now let's fit the model with our newly created smote train data."
   ]
  },
  {
   "cell_type": "markdown",
   "id": "23922246",
   "metadata": {},
   "source": [
    "### 4.2.2 Logistic Regression\n",
    "Let's build our Logistic regression model."
   ]
  },
  {
   "cell_type": "code",
   "execution_count": 44,
   "id": "4bb273d4",
   "metadata": {},
   "outputs": [
    {
     "name": "stdout",
     "output_type": "stream",
     "text": [
      "Train/Test split results:\n",
      "LogisticRegression accuracy is 0.976\n",
      "LogisticRegression log_loss is 0.054\n",
      "LogisticRegression auc is 0.999\n"
     ]
    }
   ],
   "source": [
    "logreg= LogisticRegression()\n",
    "logreg.fit(X_train_smote,y_train_smote)\n",
    "y_pred = logreg.predict(X_test)\n",
    "y_pred_prob = logreg.predict_proba(X_test)[:,1]\n",
    "[fpr, tpr, thr] = roc_curve(y_test, y_pred_prob)\n",
    "print('Train/Test split results:')\n",
    "print(logreg.__class__.__name__+\" accuracy is %2.3f\" % accuracy_score(y_test, y_pred))\n",
    "print(logreg.__class__.__name__+\" log_loss is %2.3f\" % log_loss(y_test, y_pred_prob))\n",
    "print(logreg.__class__.__name__+\" auc is %2.3f\" % auc(fpr, tpr))"
   ]
  },
  {
   "cell_type": "markdown",
   "id": "40b66dd4",
   "metadata": {},
   "source": [
    "Next, we will compute the confusion matrix and expand more on the results."
   ]
  },
  {
   "cell_type": "code",
   "execution_count": 45,
   "id": "7af22fbd",
   "metadata": {
    "scrolled": true
   },
   "outputs": [
    {
     "name": "stdout",
     "output_type": "stream",
     "text": [
      "Confusion Matrix:\n",
      "[[134   1]\n",
      " [  4  70]]\n",
      "True Positive Rate (TPR): 0.9459459459459459\n",
      "True Negative Rate (TNR): 0.9925925925925926\n",
      "AUC PR: 0.998284748698498\n",
      "Balanced Accuracy: 0.9692692692692693\n",
      "Classification Report:\n",
      "              precision    recall  f1-score   support\n",
      "\n",
      "           0       0.97      0.99      0.98       135\n",
      "           1       0.99      0.95      0.97        74\n",
      "\n",
      "    accuracy                           0.98       209\n",
      "   macro avg       0.98      0.97      0.97       209\n",
      "weighted avg       0.98      0.98      0.98       209\n",
      "\n"
     ]
    }
   ],
   "source": [
    "cm = confusion_matrix(y_test, y_pred)\n",
    "print(\"Confusion Matrix:\")\n",
    "print(cm)\n",
    "\n",
    "TPR = cm[1, 1] / (cm[1, 0] + cm[1, 1])\n",
    "print(\"True Positive Rate (TPR):\", TPR)\n",
    "\n",
    "TNR = cm[0, 0] / (cm[0, 0] + cm[0, 1])\n",
    "print(\"True Negative Rate (TNR):\", TNR)\n",
    "\n",
    "auc_pr = average_precision_score(y_test, y_pred_prob)\n",
    "print(\"AUC PR:\", auc_pr)\n",
    "\n",
    "balanced_accuracy = (TPR + TNR) / 2\n",
    "print(\"Balanced Accuracy:\", balanced_accuracy)\n",
    "print(\"Classification Report:\")\n",
    "print(classification_report(y_test, y_pred))\n"
   ]
  },
  {
   "cell_type": "markdown",
   "id": "0ee2c11f",
   "metadata": {},
   "source": [
    "The confusion matrix shows the number of true positives (134), false positives (1), false negatives (5), and true negatives (69). It provides a comprehensive view of the model's performance in terms of correct and incorrect predictions.\n",
    "\n",
    "True Positive Rate (TPR): 0.9459459459459459\n",
    "The true positive rate, also known as recall or sensitivity, measures the proportion of actual positive instances that are correctly identified by the model. In this case, it indicates that the model correctly identified 94.59% of the true positive cases.\n",
    "\n",
    "True Negative Rate (TNR): 0.9925925925925926\n",
    "The true negative rate, also known as specificity, measures the proportion of actual negative instances that are correctly identified by the model. Here, it shows that the model correctly identified 99.26% of the true negative cases.\n",
    "\n",
    "AUC PR (Area under Precision-Recall curve): 0.9980799984937478\n",
    "The AUC PR score represents the area under the precision-recall curve, which indicates the model's performance in terms of precision and recall across different classification thresholds. A score close to 1 indicates a high-quality model that achieves high precision and recall.\n",
    "\n",
    "Balanced Accuracy: 0.9692692692692693\n",
    "The balanced accuracy is the average of the true positive rate and true negative rate. It provides a balanced measure of the model's performance, particularly in situations with imbalanced datasets. Here, the balanced accuracy is 96.93%.\n",
    "\n",
    "Classification Report:\n",
    "The classification report provides a comprehensive summary of various performance metrics, including precision, recall, and F1-score, for both the majority (0) and minority (1) classes. It also includes metrics such as support, which represents the number of instances in each class.\n",
    "\n",
    "Overall, the model demonstrates strong performance with high precision, recall, and F1-score for both classes. The accuracy, as well as other metrics, indicate the model's ability to effectively handle the imbalanced dataset."
   ]
  },
  {
   "cell_type": "markdown",
   "id": "61657a3f",
   "metadata": {},
   "source": [
    "### 4.2.3 K-fold cross-validation\n",
    "The second evaluation we can use is K fold cross validation.It will help us reduce the variance of the model's performance estimate as each sample is used for both training and validation."
   ]
  },
  {
   "cell_type": "markdown",
   "id": "efcae3eb",
   "metadata": {},
   "source": [
    "We can use two functions for cross validation from the scikit learn library.  \n",
    "The first one is cross_val_score() and the second one is cross_validate().  \n",
    "So what is the difference between the two?  \n",
    "Cross_val_score() is a simpler function as it only returns the scores for a single metric, while cross_validate() returns a dictionary with scores for diffrent metrics and also includes the fit/score times for each fold.  \n",
    "Let's try both and see how they behave."
   ]
  },
  {
   "cell_type": "markdown",
   "id": "4446c63f",
   "metadata": {},
   "source": [
    "For cross_val_score we use cv = 10 for a 10 fold CV and we input the interety of X and y.\n",
    "We use accuracy,neg_log_loss and roc_auc as metics.  \n",
    "These are the results:  "
   ]
  },
  {
   "cell_type": "code",
   "execution_count": 46,
   "id": "ff515895",
   "metadata": {},
   "outputs": [
    {
     "name": "stdout",
     "output_type": "stream",
     "text": [
      "K-fold cross-validation results:\n",
      "LogisticRegression average accuracy is 0.986\n",
      "LogisticRegression average log_loss is 0.063\n",
      "LogisticRegression average auc is 0.997\n"
     ]
    }
   ],
   "source": [
    "logreg = LogisticRegression(max_iter=1000)\n",
    "scores_accuracy = cross_val_score(logreg, X_train_smote, y_train_smote, cv=10, scoring='accuracy')\n",
    "scores_log_loss = cross_val_score(logreg, X_train_smote, y_train_smote, cv=10, scoring='neg_log_loss')\n",
    "scores_auc = cross_val_score(logreg, X_train_smote, y_train_smote, cv=10, scoring='roc_auc')\n",
    "print('K-fold cross-validation results:')\n",
    "print(logreg.__class__.__name__+\" average accuracy is %2.3f\" % scores_accuracy.mean())\n",
    "print(logreg.__class__.__name__+\" average log_loss is %2.3f\" % -scores_log_loss.mean())\n",
    "print(logreg.__class__.__name__+\" average auc is %2.3f\" % scores_auc.mean())"
   ]
  },
  {
   "cell_type": "markdown",
   "id": "9c23ad25",
   "metadata": {},
   "source": [
    "A bit more complex for cross_validate()."
   ]
  },
  {
   "cell_type": "code",
   "execution_count": 47,
   "id": "9eda437f",
   "metadata": {},
   "outputs": [
    {
     "name": "stdout",
     "output_type": "stream",
     "text": [
      "K-fold cross-validation results:\n",
      "LogisticRegression average accuracy: 0.986 (+/-0.009)\n",
      "LogisticRegression average log_loss: 0.063 (+/-0.046)\n",
      "LogisticRegression average auc: 0.997 (+/-0.005)\n"
     ]
    }
   ],
   "source": [
    "scoring = {'accuracy': 'accuracy', 'log_loss': 'neg_log_loss', 'auc': 'roc_auc'}\n",
    "\n",
    "modelCV = LogisticRegression(max_iter=1000)\n",
    "\n",
    "results = cross_validate(modelCV, X_train_smote, y_train_smote, cv=10, scoring=list(scoring.values()), \n",
    "                         return_train_score=False)\n",
    "\n",
    "print('K-fold cross-validation results:')\n",
    "for sc in range(len(scoring)):\n",
    "    print(modelCV.__class__.__name__+\" average %s: %.3f (+/-%.3f)\" % (list(scoring.keys())[sc], -results['test_%s' % list(scoring.values())[sc]].mean()\n",
    "                               if list(scoring.values())[sc]=='neg_log_loss' \n",
    "                               else results['test_%s' % list(scoring.values())[sc]].mean(), \n",
    "                               results['test_%s' % list(scoring.values())[sc]].std()))"
   ]
  },
  {
   "cell_type": "markdown",
   "id": "dc1249bb",
   "metadata": {},
   "source": [
    "### 4.2.4 Other models"
   ]
  },
  {
   "cell_type": "markdown",
   "id": "a8b34a97",
   "metadata": {},
   "source": [
    "There are some other models that could be effective with classification - the two I have selected to use in this dataset for comparison are Random Forest and XGBoost."
   ]
  },
  {
   "cell_type": "markdown",
   "id": "9c3d6e23",
   "metadata": {},
   "source": [
    "Random Forest is a popular machine learning algorithm that combines multiple decision trees to make predictions. It creates a collection of trees by randomly selecting subsets of the training data and features. This randomness improves the model's ability to generalize and reduces overfitting.\n",
    "\n",
    "Each decision tree is built independently by recursively splitting the data based on selected features. During prediction, the trees vote or average their results to make the final prediction. Random Forests are widely used due to their accuracy, robustness, and feature importance analysis."
   ]
  },
  {
   "cell_type": "markdown",
   "id": "7e0341d4",
   "metadata": {},
   "source": [
    "XGBoost is a powerful gradient boosting framework used in machine learning. It combines multiple weak models, usually decision trees, to create a strong predictive model. XGBoost improves upon traditional gradient boosting by incorporating regularization techniques and efficient algorithm design. It is highly scalable, and offers excellent predictive accuracy.XGBoost is widely used for its accuracy, scalability, and ability to handle complex datasets."
   ]
  },
  {
   "cell_type": "code",
   "execution_count": 58,
   "id": "3853a642",
   "metadata": {},
   "outputs": [],
   "source": [
    "# Random Forest\n",
    "param_grid_rf = {'n_estimators': [100, 200, 300], 'max_depth': [None, 5, 10]}\n",
    "rf = RandomForestClassifier()\n",
    "grid_rf = GridSearchCV(rf, param_grid_rf, scoring='accuracy', cv=10, refit='Accuracy')\n",
    "grid_rf.fit(X_train_smote, y_train_smote)\n",
    "best_rf = grid_rf.best_estimator_\n",
    "\n",
    "# XGBoost\n",
    "param_grid_xgb = {'learning_rate': [0.1, 0.2, 0.3], 'max_depth': [3, 5, 7], 'n_estimators': [100, 200, 300]}\n",
    "xgb_model = xgb.XGBClassifier(use_label_encoder=False,eval_metric = 'error')\n",
    "grid_xgb = GridSearchCV(xgb_model, param_grid_xgb, scoring='accuracy', cv=10, refit='Accuracy')\n",
    "grid_xgb.fit(X_train_smote, y_train_smote)\n",
    "best_xgb = grid_xgb.best_estimator_\n",
    "\n",
    "# Logistic Regression\n",
    "param_grid_lr = {'C': np.logspace(-3, 2, 10)}\n",
    "lr = LogisticRegression(max_iter=1000)\n",
    "grid_lr = GridSearchCV(lr, param_grid_lr, scoring='accuracy', cv=10, refit='Accuracy')\n",
    "grid_lr.fit(X_train_smote, y_train_smote)\n",
    "best_lr = grid_lr.best_estimator_"
   ]
  },
  {
   "cell_type": "markdown",
   "id": "ee17a558",
   "metadata": {},
   "source": [
    "Now that we have our three models it's time to evaluate them."
   ]
  },
  {
   "cell_type": "code",
   "execution_count": 59,
   "id": "6328e4b8",
   "metadata": {},
   "outputs": [
    {
     "name": "stdout",
     "output_type": "stream",
     "text": [
      "Random Forest:\n",
      "Accuracy: 0.9904306220095693\n",
      "Precision: 0.9864864864864865\n",
      "Recall: 0.9864864864864865\n",
      "F1 Score: 0.9864864864864865\n",
      "AUC: 0.9895395395395395\n",
      "\n",
      "XGBoost:\n",
      "Accuracy: 0.9952153110047847\n",
      "Precision: 0.9866666666666667\n",
      "Recall: 1.0\n",
      "F1 Score: 0.9932885906040269\n",
      "AUC: 0.9962962962962962\n",
      "\n",
      "Logistic Regression:\n",
      "Accuracy: 0.9760765550239234\n",
      "Precision: 0.9859154929577465\n",
      "Recall: 0.9459459459459459\n",
      "F1 Score: 0.9655172413793103\n",
      "AUC: 0.9692692692692693\n"
     ]
    }
   ],
   "source": [
    "# Random Forest\n",
    "rf_predictions = best_rf.predict(X_test)\n",
    "rf_accuracy = accuracy_score(y_test, rf_predictions)\n",
    "rf_precision = precision_score(y_test, rf_predictions)\n",
    "rf_recall = recall_score(y_test, rf_predictions)\n",
    "rf_f1 = f1_score(y_test, rf_predictions)\n",
    "rf_auc = roc_auc_score(y_test, rf_predictions)\n",
    "\n",
    "# XGBoost\n",
    "xgb_predictions = best_xgb.predict(X_test)\n",
    "xgb_accuracy = accuracy_score(y_test, xgb_predictions)\n",
    "xgb_precision = precision_score(y_test, xgb_predictions)\n",
    "xgb_recall = recall_score(y_test, xgb_predictions)\n",
    "xgb_f1 = f1_score(y_test, xgb_predictions)\n",
    "xgb_auc = roc_auc_score(y_test, xgb_predictions)\n",
    "\n",
    "# Logistic Regression\n",
    "lr_predictions = best_lr.predict(X_test)\n",
    "lr_accuracy = accuracy_score(y_test, lr_predictions)\n",
    "lr_precision = precision_score(y_test, lr_predictions)\n",
    "lr_recall = recall_score(y_test, lr_predictions)\n",
    "lr_f1 = f1_score(y_test, lr_predictions)\n",
    "lr_auc = roc_auc_score(y_test, lr_predictions)\n",
    "\n",
    "print(\"Random Forest:\")\n",
    "print(\"Accuracy:\", rf_accuracy)\n",
    "print(\"Precision:\", rf_precision)\n",
    "print(\"Recall:\", rf_recall)\n",
    "print(\"F1 Score:\", rf_f1)\n",
    "print(\"AUC:\", rf_auc)\n",
    "\n",
    "print(\"\\nXGBoost:\")\n",
    "print(\"Accuracy:\", xgb_accuracy)\n",
    "print(\"Precision:\", xgb_precision)\n",
    "print(\"Recall:\", xgb_recall)\n",
    "print(\"F1 Score:\", xgb_f1)\n",
    "print(\"AUC:\", xgb_auc)\n",
    "\n",
    "print(\"\\nLogistic Regression:\")\n",
    "print(\"Accuracy:\", lr_accuracy)\n",
    "print(\"Precision:\", lr_precision)\n",
    "print(\"Recall:\", lr_recall)\n",
    "print(\"F1 Score:\", lr_f1)\n",
    "print(\"AUC:\", lr_auc)"
   ]
  },
  {
   "cell_type": "markdown",
   "id": "f7042e35",
   "metadata": {},
   "source": [
    "High accuracy on all of them, let's plot these results in a line plot."
   ]
  },
  {
   "cell_type": "code",
   "execution_count": 50,
   "id": "7d7bb80e",
   "metadata": {},
   "outputs": [
    {
     "data": {
      "image/png": "[encoded data removed]",
      "text/plain": [
       "<Figure size 720x432 with 1 Axes>"
      ]
     },
     "metadata": {
      "needs_background": "light"
     },
     "output_type": "display_data"
    }
   ],
   "source": [
    "metrics = ['Accuracy', 'Precision', 'Recall', 'F1 Score', 'AUC']\n",
    "rf_values = [rf_accuracy, rf_precision, rf_recall, rf_f1, rf_auc]\n",
    "xgb_values = [xgb_accuracy, xgb_precision, xgb_recall, xgb_f1, xgb_auc]\n",
    "lr_values = [lr_accuracy, lr_precision, lr_recall, lr_f1, lr_auc]\n",
    "\n",
    "plt.figure(figsize=(10, 6))\n",
    "plt.plot(metrics, rf_values, marker='o', label='Random Forest')\n",
    "plt.plot(metrics, xgb_values, marker='o', label='XGBoost')\n",
    "plt.plot(metrics, lr_values, marker='o', label='Logistic Regression')\n",
    "\n",
    "plt.xlabel('Metrics')\n",
    "plt.ylabel('Score')\n",
    "plt.title('Performance Metrics Comparison')\n",
    "plt.xticks(rotation=45)\n",
    "\n",
    "plt.legend()\n",
    "\n",
    "plt.show()\n"
   ]
  },
  {
   "cell_type": "markdown",
   "id": "ef7e74bf",
   "metadata": {},
   "source": [
    "From the results and the line plot, it is evident that XGBoost outperformed the other two models across multiple performance metrics. Notably, XGBoost achieved a significantly higher Recall score, indicating its ability to correctly identify a larger proportion of positive instances. This superior performance in Recall suggests that XGBoost has a lower chance of missing relevant cases, making it more suitable for tasks where identifying all positive instances is crucial.\n",
    "In our specific case of predicting loan defaults, it is critical to identify all positive instances accurately. Missing even a single positive instance can have significant consequences, such as financial loss. In such scenarios, maximizing the Recall metric becomes crucial."
   ]
  },
  {
   "cell_type": "markdown",
   "id": "77ad5a68",
   "metadata": {},
   "source": [
    "I would also like to explore the feature importance in each of the three models."
   ]
  },
  {
   "cell_type": "code",
   "execution_count": 51,
   "id": "1817bb00",
   "metadata": {},
   "outputs": [
    {
     "data": {
      "image/png": "[encoded data removed]",
      "text/plain": [
       "<Figure size 720x432 with 1 Axes>"
      ]
     },
     "metadata": {
      "needs_background": "light"
     },
     "output_type": "display_data"
    }
   ],
   "source": [
    "importances_rf = best_rf.feature_importances_\n",
    "\n",
    "feature_names = X.columns\n",
    "\n",
    "indices_rf = np.argsort(importances_rf)[::-1]\n",
    "\n",
    "plt.figure(figsize=(10, 6))\n",
    "plt.bar(range(len(importances_rf)), importances_rf[indices_rf])\n",
    "plt.xticks(range(len(importances_rf)), feature_names[indices_rf], rotation=90)\n",
    "plt.xlabel('Features')\n",
    "plt.ylabel('Importance')\n",
    "plt.title('Random Forest Feature Importance')\n",
    "plt.tight_layout()\n",
    "plt.show()\n"
   ]
  },
  {
   "cell_type": "code",
   "execution_count": 52,
   "id": "4c3a6bec",
   "metadata": {},
   "outputs": [
    {
     "data": {
      "image/png": "[encoded data removed]",
      "text/plain": [
       "<Figure size 720x432 with 1 Axes>"
      ]
     },
     "metadata": {
      "needs_background": "light"
     },
     "output_type": "display_data"
    }
   ],
   "source": [
    "importances_xgb = best_xgb.feature_importances_\n",
    "\n",
    "indices_xgb = np.argsort(importances_xgb)[::-1]\n",
    "\n",
    "plt.figure(figsize=(10, 6))\n",
    "plt.bar(range(len(importances_xgb)), importances_xgb[indices_xgb])\n",
    "plt.xticks(range(len(importances_xgb)), feature_names[indices_xgb], rotation=90)\n",
    "plt.xlabel('Features')\n",
    "plt.ylabel('Importance')\n",
    "plt.title('XGBoost Feature Importance')\n",
    "plt.tight_layout()\n",
    "plt.show()"
   ]
  },
  {
   "cell_type": "code",
   "execution_count": 53,
   "id": "de05b5b0",
   "metadata": {},
   "outputs": [
    {
     "data": {
      "image/png": "[encoded data removed]",
      "text/plain": [
       "<Figure size 720x432 with 1 Axes>"
      ]
     },
     "metadata": {
      "needs_background": "light"
     },
     "output_type": "display_data"
    }
   ],
   "source": [
    "coefficients_lr = best_lr.coef_[0]\n",
    "\n",
    "indices_lr = np.argsort(np.abs(coefficients_lr))[::-1]\n",
    "\n",
    "plt.figure(figsize=(10, 6))\n",
    "plt.bar(range(len(coefficients_lr)), np.abs(coefficients_lr)[indices_lr])\n",
    "plt.xticks(range(len(coefficients_lr)), feature_names[indices_lr], rotation=90)\n",
    "plt.xlabel('Features')\n",
    "plt.ylabel('Coefficient Magnitude')\n",
    "plt.title('Logistic Regression Feature Importance')\n",
    "plt.tight_layout()\n",
    "plt.show()\n"
   ]
  },
  {
   "cell_type": "markdown",
   "id": "a0dbbeba",
   "metadata": {},
   "source": [
    "The feature importance results indicate the relative significance of different features in predicting the target variable across the three models: XGBoost, Random Forest, and Logistic Regression. Specifically, we observe that the feature \"ChgOffPrinGr\" appears to be the most important in both XGBoost and Random Forest, while the feature \"Term\" is deemed most important in Logistic Regression.\n",
    "\n",
    "XGBoost and Random Forest: The prominence of the \"ChgOffPrinGr\" feature in both XGBoost and Random Forest suggests its strong influence on predicting the target variable. It implies that the amount of charged-off principal, which represents the unpaid loan amount, carries significant predictive power in determining the outcome.In these models, the feature importance is typically determined by evaluating how much the inclusion of a particular feature improves the overall predictive performance across all the trees in the ensemble. These algorithms consider various factors such as the feature's ability to split the data effectively and reduce the impurity of the target variable.\n",
    "\n",
    "Logistic Regression: In contrast, Logistic Regression identifies the \"Term\" feature as the most important. The \"Term\" refers to the duration or length of the loan. It implies that the duration of the loan is a significant factor in determining whether a default or non-default outcome will occur. In this algorithm, feature importance is derived from the coefficients assigned to each feature. The magnitude of these coefficients indicates the strength and direction of the relationship between the feature and the target variable. Features with larger coefficients have a greater impact on the predicted probability and are thus deemed more important."
   ]
  }
 ],
 "metadata": {
  "kernelspec": {
   "display_name": "Python 3",
   "language": "python",
   "name": "python3"
  },
  "language_info": {
   "codemirror_mode": {
    "name": "ipython",
    "version": 3
   },
   "file_extension": ".py",
   "mimetype": "text/x-python",
   "name": "python",
   "nbconvert_exporter": "python",
   "pygments_lexer": "ipython3",
   "version": "3.6.5"
  }
 },
 "nbformat": 4,
 "nbformat_minor": 5
}
